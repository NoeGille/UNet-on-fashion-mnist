{
  "nbformat": 4,
  "nbformat_minor": 0,
  "metadata": {
    "colab": {
      "provenance": [],
      "authorship_tag": "ABX9TyNffxxFcaJvLVW1JbN2uK8r",
      "include_colab_link": true
    },
    "kernelspec": {
      "name": "python3",
      "display_name": "Python 3"
    },
    "language_info": {
      "name": "python"
    },
    "accelerator": "GPU",
    "gpuClass": "standard"
  },
  "cells": [
    {
      "cell_type": "markdown",
      "metadata": {
        "id": "view-in-github",
        "colab_type": "text"
      },
      "source": [
        "<a href=\"https://colab.research.google.com/github/NoeGille/UNet-on-fashion-mnist/blob/main/learning_PyTorch.ipynb\" target=\"_parent\"><img src=\"https://colab.research.google.com/assets/colab-badge.svg\" alt=\"Open In Colab\"/></a>"
      ]
    },
    {
      "cell_type": "markdown",
      "source": [
        "# Learning Pytorch\n",
        "\n",
        "The goal of this notebook is to learn PyTorch."
      ],
      "metadata": {
        "id": "N_XWTqdao-fF"
      }
    },
    {
      "cell_type": "code",
      "execution_count": 20,
      "metadata": {
        "id": "HmN5axbWoirW"
      },
      "outputs": [],
      "source": [
        "import torch\n",
        "import numpy as np\n",
        "import matplotlib.pyplot as plt"
      ]
    },
    {
      "cell_type": "markdown",
      "source": [
        "## Tensor operation"
      ],
      "metadata": {
        "id": "rmy7LXI1qfcR"
      }
    },
    {
      "cell_type": "code",
      "source": [
        "# Creating a tensor\n",
        "my_tensor = torch.tensor([[1, 2, 3], [4, 5, 6]], dtype=torch.float32)\n",
        "print(my_tensor)\n",
        "\n",
        "# We can set the device\n",
        "device = \"cuda\" if torch.cuda.is_available() else \"cpu\"\n",
        "\n",
        "# Requires_grad if the tensor requires gradient (useful for retropropagation)\n",
        "my_tensor = torch.tensor([[1, 2, 3], [4, 5, 6]], dtype=torch.float32, device=device, requires_grad=True)\n",
        "\n",
        "print(my_tensor)\n",
        "print(my_tensor.shape)\n",
        "\n",
        "# Other common initialization methods (same as numpy)\n",
        "x = torch.empty(size = (3, 3))\n",
        "x = torch.zeros((3, 3))\n",
        "x = torch.rand((3, 3))\n",
        "x = torch.ones((3,3))\n",
        "x = torch.eye(5)\n",
        "x = torch.arange(start=0, end=5, step=1)\n",
        "x = torch.linspace(0, 5, 10)\n",
        "\n",
        "# Normalize values\n",
        "x = torch.empty(size=(1, 5)).normal_(mean=0,std=1)\n",
        "\n",
        "# Change tensor types\n",
        "tensor = torch.arange(4)\n",
        "print(tensor.float())\n",
        "print(tensor.bool())\n",
        "\n",
        "# Numpy to tensor\n",
        "tensor = torch.from_numpy(np.ones((3,3)))\n",
        "np_array_back = tensor.numpy()\n",
        "print(np_array_back)"
      ],
      "metadata": {
        "colab": {
          "base_uri": "https://localhost:8080/"
        },
        "id": "SQXhbH_MqYgw",
        "outputId": "0b549cde-5144-4bd4-db92-3a93b9692761"
      },
      "execution_count": 23,
      "outputs": [
        {
          "output_type": "stream",
          "name": "stdout",
          "text": [
            "tensor([[1., 2., 3.],\n",
            "        [4., 5., 6.]])\n",
            "tensor([[1., 2., 3.],\n",
            "        [4., 5., 6.]], device='cuda:0', requires_grad=True)\n",
            "torch.Size([2, 3])\n",
            "tensor([0., 1., 2., 3.])\n",
            "tensor([False,  True,  True,  True])\n",
            "[[1. 1. 1.]\n",
            " [1. 1. 1.]\n",
            " [1. 1. 1.]]\n"
          ]
        }
      ]
    },
    {
      "cell_type": "code",
      "source": [
        "# Operations\n",
        "\n",
        "x = torch.tensor([1, 2, 3])\n",
        "y = torch.tensor([9, 8, 7])\n",
        "\n",
        "t = torch.zeros((3))\n",
        "t.add_(x)\n",
        "print(t)"
      ],
      "metadata": {
        "colab": {
          "base_uri": "https://localhost:8080/"
        },
        "id": "2sZbB6m7v5Gm",
        "outputId": "e06163cb-5b61-4396-eb97-50b3c53746e1"
      },
      "execution_count": 26,
      "outputs": [
        {
          "output_type": "stream",
          "name": "stdout",
          "text": [
            "tensor([1., 2., 3.])\n"
          ]
        }
      ]
    }
  ]
}