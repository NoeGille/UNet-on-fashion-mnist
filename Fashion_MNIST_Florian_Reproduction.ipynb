{
  "nbformat": 4,
  "nbformat_minor": 0,
  "metadata": {
    "colab": {
      "provenance": [],
      "include_colab_link": true
    },
    "kernelspec": {
      "name": "python3",
      "display_name": "Python 3"
    },
    "language_info": {
      "name": "python"
    },
    "accelerator": "GPU",
    "gpuClass": "standard"
  },
  "cells": [
    {
      "cell_type": "markdown",
      "metadata": {
        "id": "view-in-github",
        "colab_type": "text"
      },
      "source": [
        "<a href=\"https://colab.research.google.com/github/NoeGille/UNet-on-fashion-mnist/blob/main/Fashion_MNIST_Florian_Reproduction.ipynb\" target=\"_parent\"><img src=\"https://colab.research.google.com/assets/colab-badge.svg\" alt=\"Open In Colab\"/></a>"
      ]
    },
    {
      "cell_type": "code",
      "execution_count": null,
      "metadata": {
        "id": "MVEQDZn_VXjb"
      },
      "outputs": [],
      "source": [
        "import os\n",
        "import random\n",
        "import numpy as np\n",
        "# import matplotlib\n",
        "# matplotlib.use('TkAgg') # Necessary to run matplotlib\n",
        "import matplotlib.pyplot as plt\n",
        "from sklearn.model_selection import train_test_split\n",
        "from tqdm import tqdm\n",
        "\n",
        "import albumentations as A\n",
        "import torch\n",
        "from torchvision import transforms\n",
        "import torch.nn as nn\n",
        "from torch.utils.data import Dataset, DataLoader\n",
        "import torch.optim as optim\n",
        "\n",
        "\n",
        "import copy\n",
        "\n",
        "from collections import OrderedDict\n",
        "\n",
        "from PIL import Image"
      ]
    },
    {
      "cell_type": "code",
      "source": [
        "from torchvision import datasets\n",
        "from torchvision import transforms\n",
        "import numpy as np\n",
        "import torch\n",
        "import random"
      ],
      "metadata": {
        "id": "pkpjMnwgWqoR"
      },
      "execution_count": null,
      "outputs": []
    },
    {
      "cell_type": "code",
      "source": [
        "DEVICE = \"cuda\" if torch.cuda.is_available() else \"cpu\"\n",
        "num_classes = 10\n",
        "batch_size = 16\n",
        "epochs = 10"
      ],
      "metadata": {
        "id": "xG7dhlWMWu3w"
      },
      "execution_count": null,
      "outputs": []
    },
    {
      "cell_type": "code",
      "source": [
        "train_dataset = datasets.FashionMNIST(root='./data', train = True, download=True)\n",
        "valid_dataset = datasets.FashionMNIST(root='./data', train = False, download=True)"
      ],
      "metadata": {
        "id": "kWc3wCPRWwH8"
      },
      "execution_count": null,
      "outputs": []
    },
    {
      "cell_type": "code",
      "source": [
        "class FashionMNISTDataset(Dataset):\n",
        "    def __init__(self, dataset, transform = None, \n",
        "                 shape = 224, labels = [1, 2, 3], \n",
        "                 not_labels = [5, 6, 7], background_obj = 3, \n",
        "                 include_label = True, length = 10000):\n",
        "        self.dataset = dataset\n",
        "        self.transform = transform\n",
        "        self.shape = shape\n",
        "        self.labels = labels\n",
        "        self.not_labels = not_labels\n",
        "        self.background_obj = background_obj\n",
        "        self.include_label = include_label\n",
        "        self.len = length\n",
        "    \n",
        "    def random_fashion_mnist(self):\n",
        "        idx = np.random.randint(0, len(self.dataset))\n",
        "\n",
        "        img, label = self.dataset[idx]\n",
        "        img = transforms.ToTensor()(img)\n",
        "        return img, label\n",
        "        \n",
        "    def __len__(self):\n",
        "        return self.len\n",
        "    \n",
        "    def __getitem__(self, i):\n",
        "        \n",
        "        image = torch.zeros((1, self.shape, self.shape))#, dtype=torch.uint8)\n",
        "        mask = torch.zeros((self.shape, self.shape))#, dtype=torch.uint8)\n",
        "\n",
        "        x = random.randint(14, self.shape - 114)\n",
        "        y = x\n",
        "\n",
        "        points = [(x, y), (x + 100, y), (x + 100, y + 100), (x, y + 100)]\n",
        "\n",
        "        for i in points:\n",
        "            while True:\n",
        "              img, label = self.random_fashion_mnist()\n",
        "              if label in self.labels:\n",
        "                break\n",
        "            \n",
        "            x_pos, y_pos = i[0] - 14, i[1] - 14\n",
        "            image[:, x_pos:x_pos+28, y_pos:y_pos+28] = img * image[:, x_pos:x_pos+28, y_pos:y_pos+28]\n",
        "            mask[x_pos:x_pos+28, y_pos:y_pos+28] = self.include_label * label + 1\n",
        "            mask[x_pos:x_pos + 28, y_pos:y_pos + 28][img[0, :, :] == 0] = 0\n",
        "        \n",
        "        for i in range(self.background_obj):\n",
        "          while True:\n",
        "              img, label = self.random_fashion_mnist()\n",
        "              if label in self.not_labels:\n",
        "                break\n",
        "          while True:\n",
        "            x = random.randint(0, self.shape - 28)\n",
        "            y = x\n",
        "            if (mask[x:x+28, y:y+28] * img).sum().item() == 0:\n",
        "                break\n",
        "          image[:, x:x + 28, y:y + 28] = img * image[:, x:x + 28, y:y + 28]\n",
        "        \n",
        "        if self.transform is not None:\n",
        "            image = image.permute(1, 2, 0)\n",
        "            image = np.array(image)\n",
        "            mask = np.array(mask)\n",
        "            transformed = self.transform(image = image, mask = mask)\n",
        "            image = transformed[\"image\"]\n",
        "            mask = transformed[\"mask\"]\n",
        "            image = transforms.ToTensor()(image).to(torch.float)\n",
        "            mask = torch.from_numpy(mask).long()\n",
        "        return image, mask\n",
        "    "
      ],
      "metadata": {
        "id": "j_q7Hxf1Wx83"
      },
      "execution_count": null,
      "outputs": []
    },
    {
      "cell_type": "code",
      "source": [
        "p = 0.1\n",
        "p_ = 0.2\n",
        "\n",
        "train_transform = A.Compose(\n",
        "    [\n",
        "        A.HorizontalFlip(p = p),\n",
        "        A.VerticalFlip(p = p),\n",
        "        A.geometric.rotate.Rotate(limit = 180, p = p_),\n",
        "    ]\n",
        ")\n",
        "\n",
        "valid_transform = A.Compose(\n",
        "    [\n",
        "        \n",
        "    ]\n",
        ")"
      ],
      "metadata": {
        "id": "t4VJZMI8W1Om"
      },
      "execution_count": null,
      "outputs": []
    },
    {
      "cell_type": "code",
      "source": [
        "labels = [1, 2, 3]\n",
        "not_labels = [1, 2, 3, 5, 6, 7]\n",
        "num_background = 5\n",
        "train_len = 2000\n",
        "valid_len = 2000\n",
        "\n",
        "train_data = FashionMNISTDataset(dataset = train_dataset, transform = train_transform, length = train_len, labels = labels, not_labels = not_labels, background_obj = num_background)#None)#transform = train_transform)\n",
        "valid_data = FashionMNISTDataset(dataset = valid_dataset, transform = valid_transform, length = valid_len, labels = labels, not_labels = not_labels, background_obj = num_background)#transform = None)#valid_transform)\n",
        "print(len(train_data), len(valid_data))"
      ],
      "metadata": {
        "colab": {
          "base_uri": "https://localhost:8080/"
        },
        "id": "FidIppGNW3Pe",
        "outputId": "a60cf75a-95d0-4932-b79b-f3b26f2204ea"
      },
      "execution_count": null,
      "outputs": [
        {
          "output_type": "stream",
          "name": "stdout",
          "text": [
            "2000 2000\n"
          ]
        }
      ]
    },
    {
      "cell_type": "code",
      "source": [
        "sample_image, sample_mask = train_data[0]\n",
        "print(sample_image.shape, sample_mask.shape)\n",
        "sample_image_to_show = sample_image.permute(1, 2, 0)\n",
        "plt.figure()\n",
        "plt.imshow(sample_image_to_show, cmap = 'gray')\n",
        "plt.figure()\n",
        "plt.imshow(sample_mask, cmap = 'gray')"
      ],
      "metadata": {
        "colab": {
          "base_uri": "https://localhost:8080/",
          "height": 886
        },
        "id": "vtL9XZYHW-Jj",
        "outputId": "0fa0fa76-22c5-49e6-bf3f-9fefcd7e5b27"
      },
      "execution_count": null,
      "outputs": [
        {
          "output_type": "stream",
          "name": "stdout",
          "text": [
            "torch.Size([1, 224, 224]) torch.Size([224, 224])\n"
          ]
        },
        {
          "output_type": "execute_result",
          "data": {
            "text/plain": [
              "<matplotlib.image.AxesImage at 0x7f3af4f29d30>"
            ]
          },
          "metadata": {},
          "execution_count": 33
        },
        {
          "output_type": "display_data",
          "data": {
            "text/plain": [
              "<Figure size 640x480 with 1 Axes>"
            ],
            "image/png": "[encoded data removed]"
          },
          "metadata": {}
        },
        {
          "output_type": "display_data",
          "data": {
            "text/plain": [
              "<Figure size 640x480 with 1 Axes>"
            ],
            "image/png": "[encoded data removed]"
          },
          "metadata": {}
        }
      ]
    },
    {
      "cell_type": "code",
      "source": [
        "from torch.utils.data import DataLoader\n",
        "\n",
        "train_dataloader = DataLoader(train_data, batch_size = 16, shuffle = True)\n",
        "test_dataloader = DataLoader(valid_data, batch_size = 16, shuffle = True)"
      ],
      "metadata": {
        "id": "Nh1etIYQefrd"
      },
      "execution_count": null,
      "outputs": []
    },
    {
      "cell_type": "code",
      "source": [
        "# Experiments\n",
        "\n",
        "## Different classes for foreground and background objects\n",
        "## Intersecting classes for foreground and background objects\n",
        "\n",
        "### Train shallow and deep models\n",
        "### Visualize predictions once model has trained\n",
        "### Evaluate using dice score\n",
        "### Evaluate using precision and recall"
      ],
      "metadata": {
        "id": "7U6_7Z0Ef9Fo"
      },
      "execution_count": null,
      "outputs": []
    }
  ]
}