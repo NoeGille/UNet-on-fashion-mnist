{
  "nbformat": 4,
  "nbformat_minor": 0,
  "metadata": {
    "colab": {
      "provenance": [],
      "authorship_tag": "ABX9TyPEbUnaQmkzAN2QK2cfT2TH",
      "include_colab_link": true
    },
    "kernelspec": {
      "name": "python3",
      "display_name": "Python 3"
    },
    "language_info": {
      "name": "python"
    },
    "accelerator": "GPU",
    "gpuClass": "standard"
  },
  "cells": [
    {
      "cell_type": "markdown",
      "metadata": {
        "id": "view-in-github",
        "colab_type": "text"
      },
      "source": [
        "<a href=\"https://colab.research.google.com/github/NoeGille/UNet-on-fashion-mnist/blob/main/learning_PyTorch_tensor.ipynb\" target=\"_parent\"><img src=\"https://colab.research.google.com/assets/colab-badge.svg\" alt=\"Open In Colab\"/></a>"
      ]
    },
    {
      "cell_type": "markdown",
      "source": [
        "# Learning Pytorch\n",
        "\n",
        "The goal of this notebook is to learn PyTorch."
      ],
      "metadata": {
        "id": "N_XWTqdao-fF"
      }
    },
    {
      "cell_type": "code",
      "execution_count": 2,
      "metadata": {
        "id": "HmN5axbWoirW"
      },
      "outputs": [],
      "source": [
        "import torch\n",
        "import numpy as np\n",
        "import matplotlib.pyplot as plt"
      ]
    },
    {
      "cell_type": "markdown",
      "source": [
        "## Tensor operation"
      ],
      "metadata": {
        "id": "rmy7LXI1qfcR"
      }
    },
    {
      "cell_type": "code",
      "source": [
        "# Creating a tensor\n",
        "my_tensor = torch.tensor([[1, 2, 3], [4, 5, 6]], dtype=torch.float32)\n",
        "print(my_tensor)\n",
        "\n",
        "# We can set the device\n",
        "device = \"cuda\" if torch.cuda.is_available() else \"cpu\"\n",
        "\n",
        "# Requires_grad if the tensor requires gradient (useful for retropropagation)\n",
        "my_tensor = torch.tensor([[1, 2, 3], [4, 5, 6]], dtype=torch.float32, device=device, requires_grad=True)\n",
        "\n",
        "print(my_tensor)\n",
        "print(my_tensor.shape)\n",
        "\n",
        "# Other common initialization methods (same as numpy)\n",
        "x = torch.empty(size = (3, 3))\n",
        "x = torch.zeros((3, 3))\n",
        "x = torch.rand((3, 3))\n",
        "x = torch.ones((3,3))\n",
        "x = torch.eye(5)\n",
        "x = torch.arange(start=0, end=5, step=1)\n",
        "x = torch.linspace(0, 5, 10)\n",
        "\n",
        "# Normalize values\n",
        "x = torch.empty(size=(1, 5)).normal_(mean=0,std=1)\n",
        "\n",
        "# Change tensor types\n",
        "tensor = torch.arange(4)\n",
        "print(tensor.float())\n",
        "print(tensor.bool())\n",
        "\n",
        "# Numpy to tensor\n",
        "tensor = torch.from_numpy(np.ones((3,3)))\n",
        "np_array_back = tensor.numpy()\n",
        "print(np_array_back)"
      ],
      "metadata": {
        "id": "SQXhbH_MqYgw",
        "colab": {
          "base_uri": "https://localhost:8080/"
        },
        "outputId": "029f9a5b-a991-4733-96a5-fbf4d1408b41"
      },
      "execution_count": 3,
      "outputs": [
        {
          "output_type": "stream",
          "name": "stdout",
          "text": [
            "tensor([[1., 2., 3.],\n",
            "        [4., 5., 6.]])\n",
            "tensor([[1., 2., 3.],\n",
            "        [4., 5., 6.]], device='cuda:0', requires_grad=True)\n",
            "torch.Size([2, 3])\n",
            "tensor([0., 1., 2., 3.])\n",
            "tensor([False,  True,  True,  True])\n",
            "[[1. 1. 1.]\n",
            " [1. 1. 1.]\n",
            " [1. 1. 1.]]\n"
          ]
        }
      ]
    },
    {
      "cell_type": "code",
      "source": [
        "# Operations (very close to numpy)\n",
        "\n",
        "x = torch.tensor([1, 2, 3])\n",
        "y = torch.tensor([9, 8, 7])\n",
        "\n",
        "# Matrix addition\n",
        "t = torch.zeros((3))\n",
        "t.add_(x)\n",
        "print(t)\n",
        "\n",
        "# Matrix comparaison\n",
        "z = x > 0\n",
        "# Element wise comparison between two matrix / vectors\n",
        "z = torch.eq(x, y)\n",
        "\n",
        "# Matrix multiplication\n",
        "x1 = torch.rand((2,5))\n",
        "x2 = torch.rand((5,3))\n",
        "x3 = torch.mm(x1, x2)\n",
        "\n",
        "# element wise multiplication\n",
        "z = x * y\n",
        "\n",
        "# dot product\n",
        "z = torch.dot(x, y)\n",
        "print(z)\n",
        "\n",
        "# Batch matrix multiplication\n",
        "batch = 32\n",
        "n = 10\n",
        "m = 20\n",
        "p = 30\n",
        "\n",
        "tensor1 = torch.rand((batch, n, m))\n",
        "tensor2 = torch.rand((batch, m ,p))\n",
        "out_bmm = torch.bmm(tensor1, tensor2)\n",
        "\n",
        "print(out_bmm.shape)\n",
        "\n",
        "# Example of broadcasting\n",
        "x1 = torch.rand((5, 5))\n",
        "x2 = torch.rand((1, 5))\n",
        "\n",
        "z = x1 - x2\n",
        "# Do the operation on every rows\n",
        "# this is called broadcasting (diffusion en français)\n",
        "\n",
        "# Othre useful operations\n",
        "values,indices = torch.max(x, dim=0)\n",
        "\n",
        "print(values, indices)\n",
        "\n",
        "# Torch requires x to be a float tensor\n",
        "mean = torch.mean(x.float())\n",
        "\n",
        "sorted_y, indices = torch.sort(y, dim=0, descending=False)\n",
        "\n",
        "# Limit the value range within min and max value\n",
        "z = torch.clamp(y, min=0, max=5)\n",
        "print(z)\n",
        "\n",
        "# Boolean tensor operations\n",
        "x = torch.tensor([1,0,1,1,1], dtype=torch.bool)\n",
        "z = torch.any(x)\n",
        "z = torch.all(x)"
      ],
      "metadata": {
        "colab": {
          "base_uri": "https://localhost:8080/"
        },
        "id": "2sZbB6m7v5Gm",
        "outputId": "ff31e84b-442f-4000-9b00-ca85dc8bccdd"
      },
      "execution_count": 19,
      "outputs": [
        {
          "output_type": "stream",
          "name": "stdout",
          "text": [
            "tensor([1., 2., 3.])\n",
            "tensor(46)\n",
            "torch.Size([32, 10, 30])\n",
            "tensor(3) tensor(2)\n",
            "tensor([5, 5, 5])\n"
          ]
        }
      ]
    },
    {
      "cell_type": "markdown",
      "source": [
        "## Tensor indexing"
      ],
      "metadata": {
        "id": "7oI32Pq6HcDf"
      }
    },
    {
      "cell_type": "code",
      "source": [
        "batch_size = 10\n",
        "features = 25\n",
        "x = torch.rand((batch_size, features))\n",
        "\n",
        "print(x[0].shape) # x[0,:]\n",
        "print(x[:, 0].shape) # first feature of each example\n",
        "print(x[2,:10]) # Basically the same as numpy\n",
        "\n",
        "x[0, 0] = 100\n",
        "\n",
        "# Advanced indexing\n",
        "x = torch.arange(10)\n",
        "print(x[(x < 2) | (x > 8)])\n",
        "# remainder (reste en français) <=> %\n",
        "print(x[x.remainder(2) == 0])\n",
        "# Same as np.where\n",
        "print(torch.where(x > 5, x, x * 2))\n"
      ],
      "metadata": {
        "colab": {
          "base_uri": "https://localhost:8080/"
        },
        "id": "jCz0csP4HeG6",
        "outputId": "fbf3fb23-55cd-4ebf-dcaf-f82a59f3b9c8"
      },
      "execution_count": 32,
      "outputs": [
        {
          "output_type": "stream",
          "name": "stdout",
          "text": [
            "torch.Size([25])\n",
            "torch.Size([10])\n",
            "tensor([0.7494, 0.4575, 0.8094, 0.6843, 0.7558, 0.9981, 0.2555, 0.9965, 0.6041,\n",
            "        0.4982])\n",
            "tensor([0, 1, 9])\n",
            "tensor([0, 2, 4, 6, 8])\n",
            "tensor([ 0,  2,  4,  6,  8, 10,  6,  7,  8,  9])\n",
            "1\n"
          ]
        }
      ]
    },
    {
      "cell_type": "markdown",
      "source": [
        "## Tensor reshaping\n"
      ],
      "metadata": {
        "id": "7ukZCfbTJeiy"
      }
    },
    {
      "cell_type": "code",
      "source": [
        "x = torch.arange(9)\n",
        "\n",
        "x_3x3 = x.view(3, 3)\n",
        "\n",
        "x_3x3 = x.reshape(3, 3)\n",
        "print(x_3x3)\n",
        "\n",
        "y = x_3x3.t()\n",
        "print(x_3x3)\n",
        "print(y.contiguous().view(9))\n",
        "\n",
        "x1 = torch.rand((2, 5))\n",
        "x2 = torch.rand((2,5))\n",
        "print(torch.cat((x1, x2), dim=0))\n",
        "print(torch.cat((x1, x2), dim=1))\n",
        "\n",
        "# -1 to get a flatten\n",
        "z = x1.view(-1)\n",
        "print(z)\n",
        "\n",
        "# Flatten for each example\n",
        "batch = 64\n",
        "x = torch.rand((batch, 2, 5))\n",
        "z = x.view(batch, -1)\n",
        "print(z.shape)\n",
        "\n",
        "# switch between dimension dimensions\n",
        "z = x.permute(0, 2, 1) \n",
        "print(z.shape)"
      ],
      "metadata": {
        "colab": {
          "base_uri": "https://localhost:8080/"
        },
        "id": "9eLn8nMsJhV3",
        "outputId": "6fb8702f-e0fc-406a-83ad-82fd8bc96987"
      },
      "execution_count": 57,
      "outputs": [
        {
          "output_type": "stream",
          "name": "stdout",
          "text": [
            "tensor([[0, 1, 2],\n",
            "        [3, 4, 5],\n",
            "        [6, 7, 8]])\n",
            "tensor([[0, 1, 2],\n",
            "        [3, 4, 5],\n",
            "        [6, 7, 8]])\n",
            "tensor([0, 3, 6, 1, 4, 7, 2, 5, 8])\n",
            "tensor([[6.9497e-01, 9.3705e-01, 8.8954e-04, 2.2306e-01, 4.9460e-01],\n",
            "        [3.6968e-01, 9.8840e-01, 1.7047e-01, 5.1732e-01, 2.1394e-01],\n",
            "        [3.2850e-02, 2.6337e-01, 8.9324e-01, 3.3837e-01, 8.7981e-01],\n",
            "        [8.4975e-01, 2.3972e-01, 8.9363e-01, 8.8074e-01, 5.1366e-01]])\n",
            "tensor([[6.9497e-01, 9.3705e-01, 8.8954e-04, 2.2306e-01, 4.9460e-01, 3.2850e-02,\n",
            "         2.6337e-01, 8.9324e-01, 3.3837e-01, 8.7981e-01],\n",
            "        [3.6968e-01, 9.8840e-01, 1.7047e-01, 5.1732e-01, 2.1394e-01, 8.4975e-01,\n",
            "         2.3972e-01, 8.9363e-01, 8.8074e-01, 5.1366e-01]])\n",
            "tensor([6.9497e-01, 9.3705e-01, 8.8954e-04, 2.2306e-01, 4.9460e-01, 3.6968e-01,\n",
            "        9.8840e-01, 1.7047e-01, 5.1732e-01, 2.1394e-01])\n",
            "torch.Size([64, 10])\n",
            "torch.Size([64, 5, 2])\n"
          ]
        }
      ]
    },
    {
      "cell_type": "markdown",
      "source": [],
      "metadata": {
        "id": "UT3X3DayUmHM"
      }
    },
    {
      "cell_type": "code",
      "source": [],
      "metadata": {
        "id": "UfEgYBU2Ups1"
      },
      "execution_count": null,
      "outputs": []
    }
  ]
}