{
  "nbformat": 4,
  "nbformat_minor": 0,
  "metadata": {
    "colab": {
      "provenance": [],
      "authorship_tag": "ABX9TyO0+gEmytkRJEjvfcno/yvr",
      "include_colab_link": true
    },
    "kernelspec": {
      "name": "python3",
      "display_name": "Python 3"
    },
    "language_info": {
      "name": "python"
    }
  },
  "cells": [
    {
      "cell_type": "markdown",
      "metadata": {
        "id": "view-in-github",
        "colab_type": "text"
      },
      "source": [
        "<a href=\"https://colab.research.google.com/github/NoeGille/UNet-on-fashion-mnist/blob/main/UNet_on_Florian's_dataset.ipynb\" target=\"_parent\"><img src=\"https://colab.research.google.com/assets/colab-badge.svg\" alt=\"Open In Colab\"/></a>"
      ]
    },
    {
      "cell_type": "markdown",
      "source": [
        "Code for UNet model found on\n",
        "\n",
        "https://www.augustehoangduc.fr/comment-implementer-u-net-pour-faire-de-la-segmentation-dimage/"
      ],
      "metadata": {
        "id": "prWW3XgKu0Ci"
      }
    },
    {
      "cell_type": "code",
      "source": [
        "import keras.datasets.fashion_mnist as fashion_mnist\n",
        "\n",
        "# Load data\n",
        "(X_train, y_train), (X_test, y_test) = fashion_mnist.load_data()"
      ],
      "metadata": {
        "id": "AT7AHN2axyGr"
      },
      "execution_count": 2,
      "outputs": []
    },
    {
      "cell_type": "code",
      "source": [
        "import numpy as np\n",
        "import matplotlib.pyplot as plt\n",
        "from random import choice\n",
        "import cv2\n",
        "\n",
        "plt.imshow(choice(X_train), cmap='gray')\n",
        "print(X_train.shape)\n",
        "print(y_train)"
      ],
      "metadata": {
        "colab": {
          "base_uri": "https://localhost:8080/",
          "height": 465
        },
        "id": "xru5n9Au0S0F",
        "outputId": "445b5c96-e3a1-46cc-fcf6-8f9200e254d9"
      },
      "execution_count": 3,
      "outputs": [
        {
          "output_type": "stream",
          "name": "stdout",
          "text": [
            "(60000, 28, 28)\n",
            "[9 0 0 ... 3 0 5]\n"
          ]
        },
        {
          "output_type": "display_data",
          "data": {
            "text/plain": [
              "<Figure size 640x480 with 1 Axes>"
            ],
            "image/png": "[encoded data removed]"
          },
          "metadata": {}
        }
      ]
    },
    {
      "cell_type": "code",
      "source": [
        "def create_y(X):\n",
        "  y = np.array([cv2.threshold(img, 8, 255, type=cv2.THRESH_BINARY)[1] for img in X])\n",
        "  return np.array(y)\n",
        "\n",
        "y_train = create_y(X_train)\n",
        "y_test = create_y(X_test)"
      ],
      "metadata": {
        "id": "eM8CX9Wd6mt-"
      },
      "execution_count": 12,
      "outputs": []
    },
    {
      "cell_type": "code",
      "source": [
        "n = np.random.randint(0, 60000)\n",
        "plt.imshow(X_train[n],cmap='gray')\n",
        "plt.show()\n",
        "plt.imshow(y_train[n],cmap='gray')\n",
        "plt.show()"
      ],
      "metadata": {
        "colab": {
          "base_uri": "https://localhost:8080/",
          "height": 843
        },
        "id": "qIktE2i79QEr",
        "outputId": "cea93113-9bdf-4ebb-9b83-a4d30f7019fd"
      },
      "execution_count": 19,
      "outputs": [
        {
          "output_type": "display_data",
          "data": {
            "text/plain": [
              "<Figure size 640x480 with 1 Axes>"
            ],
            "image/png": "[encoded data removed]"
          },
          "metadata": {}
        },
        {
          "output_type": "display_data",
          "data": {
            "text/plain": [
              "<Figure size 640x480 with 1 Axes>"
            ],
            "image/png": "[encoded data removed]"
          },
          "metadata": {}
        }
      ]
    },
    {
      "cell_type": "code",
      "source": [
        "# CONSTANTS\n",
        "\n",
        "IMG_SHAPE = (28, 28, 1)\n",
        "\n"
      ],
      "metadata": {
        "id": "KXHFw-Ir1ace"
      },
      "execution_count": 21,
      "outputs": []
    },
    {
      "cell_type": "code",
      "execution_count": 22,
      "metadata": {
        "id": "hCmSIifjtG6C"
      },
      "outputs": [],
      "source": [
        "from keras.models import Model\n",
        "from keras.layers import Conv2D, MaxPooling2D, UpSampling2D, Dense, Concatenate, Input\n",
        "\n",
        "\n",
        "def create_model():\n",
        "    def DoubleConvolution(filters, inputs):\n",
        "        \"\"\"\n",
        "        Double convolution layer used at every down sample and residual connection\n",
        "        filters : outputs filter dimension\n",
        "        inputs : input tensor\n",
        "        \"\"\"\n",
        "        y = Conv2D(filters = filters, \n",
        "                   kernel_size = (3,3), \n",
        "                   padding = 'same', \n",
        "                   activation='relu')(inputs)\n",
        "        y = Conv2D(filters = filters, \n",
        "                   kernel_size = (3,3), \n",
        "                   padding = 'same', activation='relu')(y)\n",
        "        return y\n",
        "    def DownSample(filters, inputs):\n",
        "        \"\"\"\n",
        "        Reduce size of image\n",
        "        filters : outputs filter dimension\n",
        "        inputs : input tensor\n",
        "        \"\"\"\n",
        "        y = MaxPooling2D(pool_size=(2,2), padding='valid')(inputs)\n",
        "        y = DoubleConvolution(filters, y)\n",
        "        return y\n",
        "    \n",
        "    def UpSample(filters, inputs):\n",
        "        \"\"\"\n",
        "        Increase size of image\n",
        "        filters : outputs filter dimension\n",
        "        inputs : input tensor\n",
        "        \"\"\"\n",
        "        y = UpSampling2D(size=(2,2))(inputs)\n",
        "        y = Conv2D(filters=filters, kernel_size=(3,3), activation='relu', padding='same')(y)\n",
        "        return y\n",
        "\n",
        "    def ResidualConnection(filters, input_1, input_2):\n",
        "        \"\"\"\n",
        "        Concatenate inputs of two blocks\n",
        "        filters : outputs filter dimension\n",
        "        input_1 : first input\n",
        "        input_2 : second input\n",
        "        \"\"\"\n",
        "        y = Concatenate(axis=-1)([input_1, input_2])\n",
        "        y = DoubleConvolution(filters, y)\n",
        "        return y\n",
        "      \n",
        "    input = Input(shape=(IMG_SHAPE))\n",
        "\n",
        "    #shape =(28, 28, 1)\n",
        "    Conv0 = DoubleConvolution(64, input)\n",
        "    #shape =(28, 28, 64)\n",
        "    Conv1 = DownSample(128, Conv0)\n",
        "    #shape =(14, 14, 128)\n",
        "    Conv2 = DownSample(256, Conv1)\n",
        "    #shape =(7, 7, 256)\n",
        "    \n",
        "    UpConv1 = UpSample(128, Conv2)\n",
        "    Res1 = ResidualConnection(128, Conv1, UpConv1)\n",
        "    #shape =(14, 14, 128)\n",
        "\n",
        "    UpConv0 = UpSample(128, Conv1)\n",
        "    Res0 = ResidualConnection(64, Conv0, UpConv0)\n",
        "    #shape =(28, 28, 64)\n",
        "\n",
        "    output = Dense(units = 2, activation = 'softmax')(UpConv1) # shape = (28, 28, 2)\n",
        "\n",
        "    return Model(input, output)"
      ]
    },
    {
      "cell_type": "code",
      "source": [
        "model = create_model()"
      ],
      "metadata": {
        "id": "6bp3OpUO1hr9"
      },
      "execution_count": 23,
      "outputs": []
    },
    {
      "cell_type": "code",
      "source": [
        "model.compile(optimizer=\"adam\", loss=\"binary_crossentropy\", metrics=[\"accuracy\"])\n",
        "model.summary()"
      ],
      "metadata": {
        "colab": {
          "base_uri": "https://localhost:8080/"
        },
        "id": "drnMnlY06eeG",
        "outputId": "1d2e97a4-b56e-492f-ab25-c68473cb2e36"
      },
      "execution_count": 24,
      "outputs": [
        {
          "output_type": "stream",
          "name": "stdout",
          "text": [
            "Model: \"model\"\n",
            "_________________________________________________________________\n",
            " Layer (type)                Output Shape              Param #   \n",
            "=================================================================\n",
            " input_1 (InputLayer)        [(None, 28, 28, 1)]       0         \n",
            "                                                                 \n",
            " conv2d (Conv2D)             (None, 28, 28, 64)        640       \n",
            "                                                                 \n",
            " conv2d_1 (Conv2D)           (None, 28, 28, 64)        36928     \n",
            "                                                                 \n",
            " max_pooling2d (MaxPooling2D  (None, 14, 14, 64)       0         \n",
            " )                                                               \n",
            "                                                                 \n",
            " conv2d_2 (Conv2D)           (None, 14, 14, 128)       73856     \n",
            "                                                                 \n",
            " conv2d_3 (Conv2D)           (None, 14, 14, 128)       147584    \n",
            "                                                                 \n",
            " max_pooling2d_1 (MaxPooling  (None, 7, 7, 128)        0         \n",
            " 2D)                                                             \n",
            "                                                                 \n",
            " conv2d_4 (Conv2D)           (None, 7, 7, 256)         295168    \n",
            "                                                                 \n",
            " conv2d_5 (Conv2D)           (None, 7, 7, 256)         590080    \n",
            "                                                                 \n",
            " up_sampling2d (UpSampling2D  (None, 14, 14, 256)      0         \n",
            " )                                                               \n",
            "                                                                 \n",
            " conv2d_6 (Conv2D)           (None, 14, 14, 128)       295040    \n",
            "                                                                 \n",
            " dense (Dense)               (None, 14, 14, 2)         258       \n",
            "                                                                 \n",
            "=================================================================\n",
            "Total params: 1,439,554\n",
            "Trainable params: 1,439,554\n",
            "Non-trainable params: 0\n",
            "_________________________________________________________________\n"
          ]
        }
      ]
    }
  ]
}