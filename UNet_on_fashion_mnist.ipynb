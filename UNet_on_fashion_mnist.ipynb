{
  "cells": [
    {
      "cell_type": "markdown",
      "metadata": {
        "colab_type": "text",
        "id": "view-in-github"
      },
      "source": [
        "<a href=\"https://colab.research.google.com/github/NoeGille/UNet-on-fashion-mnist/blob/main/UNet_on_fashion_mnist.ipynb\" target=\"_parent\"><img src=\"https://colab.research.google.com/assets/colab-badge.svg\" alt=\"Open In Colab\"/></a>"
      ]
    },
    {
      "cell_type": "markdown",
      "metadata": {
        "id": "prWW3XgKu0Ci"
      },
      "source": [
        "Code for UNet model found on\n",
        "\n",
        "https://www.augustehoangduc.fr/comment-implementer-u-net-pour-faire-de-la-segmentation-dimage/"
      ]
    },
    {
      "cell_type": "code",
      "execution_count": 25,
      "metadata": {
        "id": "AT7AHN2axyGr"
      },
      "outputs": [],
      "source": [
        "import keras.datasets.fashion_mnist as fashion_mnist\n",
        "\n",
        "# Load data\n",
        "(X_train, y_train), (X_test, y_test) = fashion_mnist.load_data()"
      ]
    },
    {
      "cell_type": "code",
      "execution_count": 26,
      "metadata": {
        "colab": {
          "base_uri": "https://localhost:8080/",
          "height": 465
        },
        "id": "xru5n9Au0S0F",
        "outputId": "4ba2b43e-9400-4535-917f-9726273c0798"
      },
      "outputs": [
        {
          "name": "stdout",
          "output_type": "stream",
          "text": [
            "(60000, 28, 28)\n",
            "[9 0 0 ... 3 0 5]\n"
          ]
        },
        {
          "data": {
            "image/png": "[encoded data removed]",
            "text/plain": [
              "<Figure size 640x480 with 1 Axes>"
            ]
          },
          "metadata": {},
          "output_type": "display_data"
        }
      ],
      "source": [
        "import numpy as np\n",
        "import matplotlib.pyplot as plt\n",
        "from random import choice\n",
        "import cv2\n",
        "\n",
        "plt.imshow(choice(X_train), cmap='gray')\n",
        "print(X_train.shape)\n",
        "print(y_train)"
      ]
    },
    {
      "cell_type": "markdown",
      "metadata": {
        "id": "h7jpVkwzo4Yc"
      },
      "source": [
        "## Adjusting data for the model"
      ]
    },
    {
      "cell_type": "code",
      "execution_count": 27,
      "metadata": {
        "id": "eM8CX9Wd6mt-"
      },
      "outputs": [],
      "source": [
        "IMG_SHAPE = (28, 28, 1)\n",
        "\n",
        "def create_y(X):\n",
        "  y = np.array([cv2.threshold(img, 8, 255, type=cv2.THRESH_BINARY)[1] for img in X])\n",
        "  y = np.where(y == 0, 0, 1)\n",
        "  return np.array(y)\n",
        "\n",
        "\n",
        "y_train = create_y(X_train)\n",
        "y_test = create_y(X_test)\n"
      ]
    },
    {
      "cell_type": "code",
      "execution_count": 28,
      "metadata": {
        "id": "_BooolHhpz4w"
      },
      "outputs": [],
      "source": [
        "X_train = ((np.array(np.expand_dims(X_train, axis=-1), dtype=np.float64) - X_train.mean()) / np.sqrt(X_train.var()))\n",
        "y_train = np.array(np.expand_dims(y_train, axis=-1), dtype=np.float64)\n",
        "\n",
        "X_test = ((np.array(np.expand_dims(X_test, axis=-1), dtype=np.float64) - X_test.mean()) / np.sqrt(X_test.var()))\n",
        "y_test = np.array(np.expand_dims(y_test, axis=-1), dtype=np.float64)"
      ]
    },
    {
      "cell_type": "code",
      "execution_count": 29,
      "metadata": {
        "colab": {
          "base_uri": "https://localhost:8080/",
          "height": 885
        },
        "id": "qIktE2i79QEr",
        "outputId": "9711f1ed-09fd-43a8-f360-3a7f5d9a829c"
      },
      "outputs": [
        {
          "name": "stdout",
          "output_type": "stream",
          "text": [
            "-1.74808013869143e-17\n"
          ]
        }
      ],
      "source": [
        "print(X_train.mean())\n",
        "print(X_train.var())\n",
        "n = np.random.randint(0, 60000)\n",
        "plt.imshow(X_train[n],cmap='gray')\n",
        "plt.colorbar()\n",
        "plt.show()\n",
        "plt.imshow(y_train[n,:,:],cmap='gray')\n",
        "plt.colorbar()\n",
        "plt.show()"
      ]
    },
    {
      "cell_type": "markdown",
      "metadata": {
        "id": "ie3NwjMvo_7p"
      },
      "source": [
        "The data seems to be good."
      ]
    },
    {
      "cell_type": "markdown",
      "metadata": {
        "id": "cGUCSCcEok1v"
      },
      "source": [
        "## Creation of the model"
      ]
    },
    {
      "cell_type": "code",
      "execution_count": null,
      "metadata": {
        "id": "hCmSIifjtG6C"
      },
      "outputs": [],
      "source": [
        "from keras.models import Model\n",
        "from keras.layers import Conv2D, MaxPooling2D, UpSampling2D, Dense, Concatenate, Input, BatchNormalization, Dropout\n",
        "\n",
        "\n",
        "def create_model():\n",
        "    def DoubleConvolution(filters, inputs):\n",
        "        \"\"\"\n",
        "        Double convolution layer used at every down sample and residual connection\n",
        "        filters : outputs filter dimension\n",
        "        inputs : input tensor\n",
        "        \"\"\"\n",
        "        y = Conv2D(filters = filters, \n",
        "                   kernel_size = (3,3), \n",
        "                   padding = 'same',\n",
        "                   kernel_initializer='he_normal', \n",
        "                   activation='elu')(inputs)\n",
        "        y = BatchNormalization()(y)\n",
        "        y = Dropout(0.1) (y)\n",
        "        y = Conv2D(filters = filters, \n",
        "                   kernel_size = (3,3), \n",
        "                   padding = 'same', \n",
        "                   kernel_initializer='he_normal', \n",
        "                   activation='relu')(y)\n",
        "        y = BatchNormalization()(y)\n",
        "        y = Dropout(0.1) (y)\n",
        "        \n",
        "        return y\n",
        "    def DownSample(filters, inputs):\n",
        "        \"\"\"\n",
        "        Reduce size of image\n",
        "        filters : outputs filter dimension\n",
        "        inputs : input tensor\n",
        "        \"\"\"\n",
        "        y = MaxPooling2D(pool_size=(2,2), padding='valid')(inputs)\n",
        "        y = DoubleConvolution(filters, y)\n",
        "        return y\n",
        "    \n",
        "    def UpSample(filters, inputs):\n",
        "        \"\"\"\n",
        "        Increase size of image\n",
        "        filters : outputs filter dimension\n",
        "        inputs : input tensor\n",
        "        \"\"\"\n",
        "        y = UpSampling2D(size=(2,2))(inputs)\n",
        "        y = Conv2D(filters=filters, kernel_size=(3,3), activation='elu', padding='same')(y)\n",
        "        y = BatchNormalization()(y)\n",
        "        return y\n",
        "\n",
        "    def ResidualConnection(filters, input_1, input_2):\n",
        "        \"\"\"\n",
        "        Concatenate inputs of two blocks\n",
        "        filters : outputs filter dimension\n",
        "        input_1 : first input\n",
        "        input_2 : second input\n",
        "        \"\"\"\n",
        "        y = Concatenate(axis=-1)([input_1, input_2])\n",
        "        y = DoubleConvolution(filters, y)\n",
        "        return y\n",
        "      \n",
        "    input = Input(shape=(IMG_SHAPE))\n",
        "\n",
        "    #shape =(28, 28, 1)\n",
        "    Conv0 = DoubleConvolution(64, input)\n",
        "    #shape =(28, 28, 64)\n",
        "    Conv1 = DownSample(128, Conv0)\n",
        "    #shape =(14, 14, 128)\n",
        "    Conv2 = DownSample(256, Conv1)\n",
        "    #shape =(7, 7, 256)\n",
        "\n",
        "    UpConv1 = UpSample(128, Conv2)\n",
        "    Res1 = ResidualConnection(128, Conv1, UpConv1)\n",
        "    #shape =(14, 14, 128)\n",
        "\n",
        "    UpConv0 = UpSample(128, UpConv1)\n",
        "    Res0 = ResidualConnection(64, Conv0, UpConv0)\n",
        "    #shape =(28, 28, 64)\n",
        "\n",
        "    output = Conv2D(1, kernel_size=(1,1), activation = 'sigmoid')(Res0) # shape = (28, 28, 1)\n",
        "\n",
        "    return Model(input, output)"
      ]
    },
    {
      "cell_type": "code",
      "execution_count": null,
      "metadata": {
        "id": "6bp3OpUO1hr9"
      },
      "outputs": [],
      "source": [
        "IMG_SHAPE = (28,28,1)\n",
        "model = create_model()"
      ]
    },
    {
      "cell_type": "code",
      "execution_count": null,
      "metadata": {
        "id": "drnMnlY06eeG"
      },
      "outputs": [],
      "source": [
        "from keras.metrics import MeanIoU\n",
        "from keras.optimizers import Adam\n",
        "model.compile(optimizer=Adam(learning_rate=0.0001), loss=\"binary_crossentropy\", metrics=['accuracy'])"
      ]
    },
    {
      "cell_type": "markdown",
      "metadata": {
        "id": "4sEUFTfPoyje"
      },
      "source": [
        "## Training"
      ]
    },
    {
      "cell_type": "code",
      "execution_count": null,
      "metadata": {
        "colab": {
          "base_uri": "https://localhost:8080/"
        },
        "id": "IQnvcyed_oeK",
        "outputId": "622ff65a-5797-4a5c-9cdc-386b585c224d"
      },
      "outputs": [
        {
          "name": "stdout",
          "output_type": "stream",
          "text": [
            "Epoch 1/10\n",
            "299/300 [============================>.] - ETA: 0s - loss: 0.0946 - accuracy: 0.9633\n",
            "Epoch 1: saving model to drive/My Drive\\model_checkpoint.h5\n",
            "300/300 [==============================] - 24s 14ms/step - loss: 0.0944 - accuracy: 0.9634\n",
            "Epoch 2/10\n",
            "300/300 [==============================] - ETA: 0s - loss: 0.0427 - accuracy: 0.9852\n",
            "Epoch 2: saving model to drive/My Drive\\model_checkpoint.h5\n",
            "300/300 [==============================] - 4s 12ms/step - loss: 0.0427 - accuracy: 0.9852\n",
            "Epoch 3/10\n",
            "296/300 [============================>.] - ETA: 0s - loss: 0.0313 - accuracy: 0.9890\n",
            "Epoch 3: saving model to drive/My Drive\\model_checkpoint.h5\n",
            "300/300 [==============================] - 4s 12ms/step - loss: 0.0314 - accuracy: 0.9889\n",
            "Epoch 4/10\n",
            "300/300 [==============================] - ETA: 0s - loss: 0.0245 - accuracy: 0.9913\n",
            "Epoch 4: saving model to drive/My Drive\\model_checkpoint.h5\n",
            "300/300 [==============================] - 4s 12ms/step - loss: 0.0245 - accuracy: 0.9913\n",
            "Epoch 5/10\n",
            "300/300 [==============================] - ETA: 0s - loss: 0.0229 - accuracy: 0.9918\n",
            "Epoch 5: saving model to drive/My Drive\\model_checkpoint.h5\n",
            "300/300 [==============================] - 4s 12ms/step - loss: 0.0229 - accuracy: 0.9918\n",
            "Epoch 6/10\n",
            "299/300 [============================>.] - ETA: 0s - loss: 0.0207 - accuracy: 0.9925\n",
            "Epoch 6: saving model to drive/My Drive\\model_checkpoint.h5\n",
            "300/300 [==============================] - 4s 12ms/step - loss: 0.0207 - accuracy: 0.9925\n",
            "Epoch 7/10\n",
            "297/300 [============================>.] - ETA: 0s - loss: 0.0199 - accuracy: 0.9929\n",
            "Epoch 7: saving model to drive/My Drive\\model_checkpoint.h5\n",
            "300/300 [==============================] - 4s 12ms/step - loss: 0.0200 - accuracy: 0.9929\n",
            "Epoch 8/10\n",
            "299/300 [============================>.] - ETA: 0s - loss: 0.0173 - accuracy: 0.9939\n",
            "Epoch 8: saving model to drive/My Drive\\model_checkpoint.h5\n",
            "300/300 [==============================] - 4s 12ms/step - loss: 0.0173 - accuracy: 0.9939\n",
            "Epoch 9/10\n",
            "300/300 [==============================] - ETA: 0s - loss: 0.0183 - accuracy: 0.9934\n",
            "Epoch 9: saving model to drive/My Drive\\model_checkpoint.h5\n",
            "300/300 [==============================] - 4s 12ms/step - loss: 0.0183 - accuracy: 0.9934\n",
            "Epoch 10/10\n",
            "296/300 [============================>.] - ETA: 0s - loss: 0.0161 - accuracy: 0.9944\n",
            "Epoch 10: saving model to drive/My Drive\\model_checkpoint.h5\n",
            "300/300 [==============================] - 3s 12ms/step - loss: 0.0161 - accuracy: 0.9943\n"
          ]
        }
      ],
      "source": [
        "from keras.engine.training import callbacks_module\n",
        "from keras.callbacks import ModelCheckpoint\n",
        "# Allows us to keep track of training data\n",
        "callbacks = []\n",
        "callbacks.append(ModelCheckpoint('drive/My Drive/model_checkpoint.h5',monitor='val_loss',verbose=1,save_best_only=False, save_weights_only=False, mode='auto', save_freq='epoch'))\n",
        "\n",
        "# We choose to use less data to get good results fot plotting.\n",
        "# To get a better model, we could increase the batch size and the number of data example\n",
        "# by changing epochs and steps_per_epoch\n",
        "\n",
        "BATCH_SIZE = 4\n",
        "history = model.fit(x=X_train, y=y_train, batch_size=BATCH_SIZE, epochs=10, steps_per_epoch=len(X_train) // (BATCH_SIZE * 50), verbose=1, callbacks=callbacks)\n"
      ]
    },
    {
      "cell_type": "code",
      "execution_count": null,
      "metadata": {
        "colab": {
          "base_uri": "https://localhost:8080/"
        },
        "id": "Y9T4ATNYoID3",
        "outputId": "6668c053-2dd2-4c98-eec1-25374e2e0164"
      },
      "outputs": [
        {
          "name": "stdout",
          "output_type": "stream",
          "text": [
            "313/313 [==============================] - 4s 9ms/step - loss: 0.0097 - accuracy: 0.9964\n"
          ]
        },
        {
          "data": {
            "text/plain": [
              "[0.009688453748822212, 0.9963947534561157]"
            ]
          },
          "execution_count": 11,
          "metadata": {},
          "output_type": "execute_result"
        }
      ],
      "source": [
        "model.evaluate(x=X_test, y=y_test)"
      ]
    },
    {
      "cell_type": "markdown",
      "metadata": {
        "id": "sw2bBUPyppZH"
      },
      "source": [
        "The model gives good results. Let's plot an example to see if everything is okay."
      ]
    },
    {
      "cell_type": "code",
      "execution_count": null,
      "metadata": {
        "colab": {
          "base_uri": "https://localhost:8080/",
          "height": 860
        },
        "id": "ylxSOnorXLxf",
        "outputId": "0b034014-01af-4b06-e3e5-aeefd60b5be0"
      },
      "outputs": [
        {
          "data": {
            "image/png": "[encoded data removed]",
            "text/plain": [
              "<Figure size 640x480 with 1 Axes>"
            ]
          },
          "metadata": {},
          "output_type": "display_data"
        },
        {
          "name": "stdout",
          "output_type": "stream",
          "text": [
            "313/313 [==============================] - 2s 7ms/step\n"
          ]
        },
        {
          "data": {
            "image/png": "[encoded data removed]",
            "text/plain": [
              "<Figure size 640x480 with 1 Axes>"
            ]
          },
          "metadata": {},
          "output_type": "display_data"
        }
      ],
      "source": [
        "plt.imshow(X_test[2], cmap='gray')\n",
        "plt.show()\n",
        "prediction = model.predict(X_test)\n",
        "\n",
        "plt.imshow(prediction[2], cmap='gray')\n",
        "plt.show()"
      ]
    },
    {
      "cell_type": "code",
      "execution_count": null,
      "metadata": {
        "colab": {
          "base_uri": "https://localhost:8080/",
          "height": 1000
        },
        "id": "Eyz8x3Uzp7yK",
        "outputId": "95ac8c8e-70b0-4669-a94f-4622b33a46c6"
      },
      "outputs": [
        {
          "data": {
            "image/png": "[encoded data removed]",
            "text/plain": [
              "<Figure size 1200x1200 with 2 Axes>"
            ]
          },
          "metadata": {},
          "output_type": "display_data"
        }
      ],
      "source": [
        "epochs = 15\n",
        "\n",
        "fig, (ax1, ax2) = plt.subplots(2, 1, figsize=(12, 12))\n",
        "ax1.plot(history.history['loss'], color='b', label=\"Training loss\")\n",
        "ax1.set_xticks(np.arange(1, epochs, 1))\n",
        "ax1.legend(loc='best', shadow=True)\n",
        "#ax1.set_yticks(np.arange(0, 1, 0.1))\n",
        "\n",
        "ax2.plot(history.history['accuracy'], color='b', label=\"Training accuracy\")\n",
        "ax2.set_xticks(np.arange(1, epochs, 1))\n",
        "ax2.legend(loc='best', shadow=True)\n",
        "plt.tight_layout()\n",
        "plt.show()"
      ]
    },
    {
      "cell_type": "markdown",
      "metadata": {
        "id": "r-sFPiJCvQFh"
      },
      "source": [
        "# Multi-classes segmentation\n",
        "\n",
        "The problem is now to segment pixels depending on what type of clothes their are from.\n"
      ]
    },
    {
      "cell_type": "code",
      "execution_count": null,
      "metadata": {
        "colab": {
          "base_uri": "https://localhost:8080/"
        },
        "id": "Eyi6Xr29vlYZ",
        "outputId": "d7a9de47-12c0-4883-da65-3168c83ceb49"
      },
      "outputs": [
        {
          "name": "stderr",
          "output_type": "stream",
          "text": [
            "100%|██████████| 60000/60000 [00:00<00:00, 299334.08it/s]\n"
          ]
        }
      ],
      "source": [
        "from tqdm import tqdm\n",
        "from keras.utils import to_categorical\n",
        "# X_train and X_test stay the same. We need new y prediction\n",
        "(X_train, y_train), (X_test, y_test) = fashion_mnist.load_data()\n",
        "\n",
        "\n",
        "def create_targets(X, y_label):\n",
        "    '''y should be a matrix where pixels have the value of their classes and not a matrix with 10 channels.\n",
        "    The following code is wrong'''\n",
        "    y = np.array([cv2.threshold(img, 8, 255, type=cv2.THRESH_BINARY)[1] for img in X])\n",
        "    y = np.where(y == 0, 0, 1)\n",
        "    y_res = np.zeros((*y.shape, 10))\n",
        "    for s in tqdm(range(y_res.shape[0])):\n",
        "      for i in range(y_res.shape[1]):\n",
        "        for j in range(y_res.shape[2]):\n",
        "          if y[s,i,j] == 1:\n",
        "            y_res[s, i, j, y_label[s]] = 1\n",
        "    return y_res\n",
        "\n",
        "def create_targets(X, y_label):\n",
        "    y = np.array([cv2.threshold(img, 8, 255, type=cv2.THRESH_BINARY)[1] for img in X])\n",
        "    y = np.where(y == 0, 0, 1)\n",
        "    for s in tqdm(range(y.shape[0])):\n",
        "      y[s] *= y_label[s] + 1\n",
        "    return to_categorical(y)\n",
        "\n",
        "y_train = create_targets(X_train, y_train)\n"
      ]
    },
    {
      "cell_type": "code",
      "execution_count": null,
      "metadata": {
        "colab": {
          "base_uri": "https://localhost:8080/"
        },
        "id": "aHTVLgWW5w1j",
        "outputId": "059aa2e8-8e22-4816-e157-4dfd84bc1853"
      },
      "outputs": [
        {
          "name": "stderr",
          "output_type": "stream",
          "text": [
            "100%|██████████| 10000/10000 [00:00<00:00, 281159.14it/s]\n"
          ]
        }
      ],
      "source": [
        "# Normalizing input data\n",
        "X_train = ((np.array(np.expand_dims(X_train, axis=-1), dtype=np.float64) - X_train.mean()) / np.sqrt(X_train.var()))\n",
        "\n",
        "# Computing valid output test data\n",
        "y_test = create_targets(X_test, y_test)\n",
        "X_test = ((np.array(np.expand_dims(X_test, axis=-1), dtype=np.float64) - X_test.mean()) / np.sqrt(X_test.var()))\n",
        "\n"
      ]
    },
    {
      "cell_type": "code",
      "execution_count": null,
      "metadata": {
        "colab": {
          "base_uri": "https://localhost:8080/",
          "height": 435
        },
        "id": "lV6AtLvP4iWa",
        "outputId": "1e0fe36b-994f-4b8a-c649-b54605f3fe61"
      },
      "outputs": [
        {
          "data": {
            "image/png": "[encoded data removed]",
            "text/plain": [
              "<Figure size 640x480 with 2 Axes>"
            ]
          },
          "metadata": {},
          "output_type": "display_data"
        }
      ],
      "source": [
        "# Sample 0 with class 10\n",
        "plt.imshow(y_train[0, :, :, 10],cmap='gray')\n",
        "plt.colorbar()\n",
        "plt.show()\n",
        "# Showing class 9 of the same sample"
      ]
    },
    {
      "cell_type": "markdown",
      "metadata": {
        "id": "nVwa_LTt5p5I"
      },
      "source": [
        "## Model\n",
        "\n",
        "We're gonna use the same model as before but with 10 classes for the ouput"
      ]
    },
    {
      "cell_type": "code",
      "execution_count": null,
      "metadata": {
        "id": "Dy8FEYsa5pgr"
      },
      "outputs": [],
      "source": [
        "IMG_SHAPE = (28,28,1)\n",
        "\n",
        "def create_model():\n",
        "    def DoubleConvolution(filters, inputs):\n",
        "        \"\"\"\n",
        "        Double convolution layer used at every down sample and residual connection\n",
        "        filters : outputs filter dimension\n",
        "        inputs : input tensor\n",
        "        \"\"\"\n",
        "        y = Conv2D(filters = filters, \n",
        "                   kernel_size = (3,3), \n",
        "                   padding = 'same',\n",
        "                   kernel_initializer='he_normal', \n",
        "                   activation='relu')(inputs)\n",
        "        y = BatchNormalization()(y)\n",
        "        y = Dropout(0.1) (y)\n",
        "        y = Conv2D(filters = filters, \n",
        "                   kernel_size = (3,3), \n",
        "                   padding = 'same', \n",
        "                   kernel_initializer='he_normal', \n",
        "                   activation='relu')(y)\n",
        "        y = BatchNormalization()(y)\n",
        "        y = Dropout(0.1) (y)\n",
        "        \n",
        "        return y\n",
        "    def DownSample(filters, inputs):\n",
        "        \"\"\"\n",
        "        Reduce size of image\n",
        "        filters : outputs filter dimension\n",
        "        inputs : input tensor\n",
        "        \"\"\"\n",
        "        y = MaxPooling2D(pool_size=(2,2), padding='valid')(inputs)\n",
        "        y = DoubleConvolution(filters, y)\n",
        "        return y\n",
        "    \n",
        "    def UpSample(filters, inputs):\n",
        "        \"\"\"\n",
        "        Increase size of image\n",
        "        filters : outputs filter dimension\n",
        "        inputs : input tensor\n",
        "        \"\"\"\n",
        "        y = UpSampling2D(size=(2,2))(inputs)\n",
        "        y = Conv2D(filters=filters, kernel_size=(3,3), activation='relu', padding='same')(y)\n",
        "        y = BatchNormalization()(y)\n",
        "        return y\n",
        "\n",
        "    def ResidualConnection(filters, input_1, input_2):\n",
        "        \"\"\"\n",
        "        Concatenate inputs of two blocks\n",
        "        filters : outputs filter dimension\n",
        "        input_1 : first input\n",
        "        input_2 : second input\n",
        "        \"\"\"\n",
        "        y = Concatenate(axis=-1)([input_1, input_2])\n",
        "        y = DoubleConvolution(filters, y)\n",
        "        return y\n",
        "      \n",
        "    input = Input(shape=(IMG_SHAPE))\n",
        "\n",
        "    #shape =(28, 28, 1)\n",
        "    Conv0 = DoubleConvolution(64, input)\n",
        "    #shape =(28, 28, 64)\n",
        "    Conv1 = DownSample(128, Conv0)\n",
        "    #shape =(14, 14, 128)\n",
        "    Conv2 = DownSample(256, Conv1)\n",
        "    #shape =(7, 7, 256)\n",
        "\n",
        "    UpConv1 = UpSample(128, Conv2)\n",
        "    Res1 = ResidualConnection(128, Conv1, UpConv1)\n",
        "    #shape =(14, 14, 128)\n",
        "\n",
        "    UpConv0 = UpSample(128, UpConv1)\n",
        "    Res0 = ResidualConnection(64, Conv0, UpConv0)\n",
        "    #shape =(28, 28, 64)\n",
        "    \n",
        "    # This is the only line that changes\n",
        "    output = Conv2D(11, kernel_size=(1,1), activation = 'sigmoid')(Res0) # shape = (28, 28, 11)\n",
        "\n",
        "    return Model(input, output)"
      ]
    },
    {
      "cell_type": "code",
      "execution_count": null,
      "metadata": {
        "id": "RompZ4US6qlL"
      },
      "outputs": [],
      "source": [
        "model = create_model()\n",
        "model.compile(optimizer=Adam(learning_rate=0.0001), loss=\"categorical_crossentropy\", metrics=['accuracy'])"
      ]
    },
    {
      "cell_type": "code",
      "execution_count": null,
      "metadata": {
        "colab": {
          "base_uri": "https://localhost:8080/"
        },
        "id": "h9h1MPoo7AZI",
        "outputId": "559880c5-4129-4b5b-b321-0c04dcb4d6c9"
      },
      "outputs": [
        {
          "name": "stdout",
          "output_type": "stream",
          "text": [
            "WARNING:tensorflow:Model was constructed with shape (None, 28, 28, 1) for input KerasTensor(type_spec=TensorSpec(shape=(None, 28, 28, 1), dtype=tf.float32, name='input_2'), name='input_2', description=\"created by layer 'input_2'\"), but it was called on an input with incompatible shape (16, 28, 28, 1, 1, 1).\n"
          ]
        },
        {
          "ename": "ValueError",
          "evalue": "in user code:\n\n    File \"d:\\Anaconda\\envs\\gpu\\lib\\site-packages\\keras\\engine\\training.py\", line 1160, in train_function  *\n        return step_function(self, iterator)\n    File \"d:\\Anaconda\\envs\\gpu\\lib\\site-packages\\keras\\engine\\training.py\", line 1146, in step_function  **\n        outputs = model.distribute_strategy.run(run_step, args=(data,))\n    File \"d:\\Anaconda\\envs\\gpu\\lib\\site-packages\\keras\\engine\\training.py\", line 1135, in run_step  **\n        outputs = model.train_step(data)\n    File \"d:\\Anaconda\\envs\\gpu\\lib\\site-packages\\keras\\engine\\training.py\", line 993, in train_step\n        y_pred = self(x, training=True)\n    File \"d:\\Anaconda\\envs\\gpu\\lib\\site-packages\\keras\\utils\\traceback_utils.py\", line 70, in error_handler\n        raise e.with_traceback(filtered_tb) from None\n    File \"d:\\Anaconda\\envs\\gpu\\lib\\site-packages\\keras\\engine\\input_spec.py\", line 232, in assert_input_compatibility\n        raise ValueError(\n\n    ValueError: Exception encountered when calling layer \"model_1\" \"                 f\"(type Functional).\n    \n    Input 0 of layer \"batch_normalization_12\" is incompatible with the layer: expected ndim=4, found ndim=6. Full shape received: (16, 28, 28, 1, 1, 64)\n    \n    Call arguments received by layer \"model_1\" \"                 f\"(type Functional):\n      • inputs=tf.Tensor(shape=(16, 28, 28, 1, 1, 1), dtype=float32)\n      • training=True\n      • mask=None\n",
          "output_type": "error",
          "traceback": [
            "\u001b[1;31m---------------------------------------------------------------------------\u001b[0m",
            "\u001b[1;31mValueError\u001b[0m                                Traceback (most recent call last)",
            "Cell \u001b[1;32mIn[24], line 2\u001b[0m\n\u001b[0;32m      1\u001b[0m BATCH_SIZE \u001b[39m=\u001b[39m \u001b[39m16\u001b[39m\n\u001b[1;32m----> 2\u001b[0m history \u001b[39m=\u001b[39m model\u001b[39m.\u001b[39;49mfit(x\u001b[39m=\u001b[39;49mX_train, y\u001b[39m=\u001b[39;49my_train, batch_size\u001b[39m=\u001b[39;49mBATCH_SIZE, epochs\u001b[39m=\u001b[39;49m\u001b[39m1\u001b[39;49m, steps_per_epoch\u001b[39m=\u001b[39;49m\u001b[39mlen\u001b[39;49m(X_train) \u001b[39m/\u001b[39;49m\u001b[39m/\u001b[39;49m BATCH_SIZE, verbose\u001b[39m=\u001b[39;49m\u001b[39m1\u001b[39;49m)\n",
            "File \u001b[1;32md:\\Anaconda\\envs\\gpu\\lib\\site-packages\\keras\\utils\\traceback_utils.py:70\u001b[0m, in \u001b[0;36mfilter_traceback.<locals>.error_handler\u001b[1;34m(*args, **kwargs)\u001b[0m\n\u001b[0;32m     67\u001b[0m     filtered_tb \u001b[39m=\u001b[39m _process_traceback_frames(e\u001b[39m.\u001b[39m__traceback__)\n\u001b[0;32m     68\u001b[0m     \u001b[39m# To get the full stack trace, call:\u001b[39;00m\n\u001b[0;32m     69\u001b[0m     \u001b[39m# `tf.debugging.disable_traceback_filtering()`\u001b[39;00m\n\u001b[1;32m---> 70\u001b[0m     \u001b[39mraise\u001b[39;00m e\u001b[39m.\u001b[39mwith_traceback(filtered_tb) \u001b[39mfrom\u001b[39;00m \u001b[39mNone\u001b[39m\n\u001b[0;32m     71\u001b[0m \u001b[39mfinally\u001b[39;00m:\n\u001b[0;32m     72\u001b[0m     \u001b[39mdel\u001b[39;00m filtered_tb\n",
            "File \u001b[1;32m~\\AppData\\Local\\Temp\\__autograph_generated_fileag8wxiuq.py:15\u001b[0m, in \u001b[0;36mouter_factory.<locals>.inner_factory.<locals>.tf__train_function\u001b[1;34m(iterator)\u001b[0m\n\u001b[0;32m     13\u001b[0m \u001b[39mtry\u001b[39;00m:\n\u001b[0;32m     14\u001b[0m     do_return \u001b[39m=\u001b[39m \u001b[39mTrue\u001b[39;00m\n\u001b[1;32m---> 15\u001b[0m     retval_ \u001b[39m=\u001b[39m ag__\u001b[39m.\u001b[39mconverted_call(ag__\u001b[39m.\u001b[39mld(step_function), (ag__\u001b[39m.\u001b[39mld(\u001b[39mself\u001b[39m), ag__\u001b[39m.\u001b[39mld(iterator)), \u001b[39mNone\u001b[39;00m, fscope)\n\u001b[0;32m     16\u001b[0m \u001b[39mexcept\u001b[39;00m:\n\u001b[0;32m     17\u001b[0m     do_return \u001b[39m=\u001b[39m \u001b[39mFalse\u001b[39;00m\n",
            "\u001b[1;31mValueError\u001b[0m: in user code:\n\n    File \"d:\\Anaconda\\envs\\gpu\\lib\\site-packages\\keras\\engine\\training.py\", line 1160, in train_function  *\n        return step_function(self, iterator)\n    File \"d:\\Anaconda\\envs\\gpu\\lib\\site-packages\\keras\\engine\\training.py\", line 1146, in step_function  **\n        outputs = model.distribute_strategy.run(run_step, args=(data,))\n    File \"d:\\Anaconda\\envs\\gpu\\lib\\site-packages\\keras\\engine\\training.py\", line 1135, in run_step  **\n        outputs = model.train_step(data)\n    File \"d:\\Anaconda\\envs\\gpu\\lib\\site-packages\\keras\\engine\\training.py\", line 993, in train_step\n        y_pred = self(x, training=True)\n    File \"d:\\Anaconda\\envs\\gpu\\lib\\site-packages\\keras\\utils\\traceback_utils.py\", line 70, in error_handler\n        raise e.with_traceback(filtered_tb) from None\n    File \"d:\\Anaconda\\envs\\gpu\\lib\\site-packages\\keras\\engine\\input_spec.py\", line 232, in assert_input_compatibility\n        raise ValueError(\n\n    ValueError: Exception encountered when calling layer \"model_1\" \"                 f\"(type Functional).\n    \n    Input 0 of layer \"batch_normalization_12\" is incompatible with the layer: expected ndim=4, found ndim=6. Full shape received: (16, 28, 28, 1, 1, 64)\n    \n    Call arguments received by layer \"model_1\" \"                 f\"(type Functional):\n      • inputs=tf.Tensor(shape=(16, 28, 28, 1, 1, 1), dtype=float32)\n      • training=True\n      • mask=None\n"
          ]
        }
      ],
      "source": [
        "\n",
        "BATCH_SIZE = 16\n",
        "history = model.fit(x=X_train, y=y_train, batch_size=BATCH_SIZE, epochs=1, steps_per_epoch=len(X_train) // BATCH_SIZE, verbose=1)\n",
        "\n"
      ]
    },
    {
      "cell_type": "code",
      "execution_count": null,
      "metadata": {
        "colab": {
          "base_uri": "https://localhost:8080/"
        },
        "id": "_TiBQjA07R_2",
        "outputId": "d8018bad-29d2-4c3e-e30b-ee9ad0e006cb"
      },
      "outputs": [
        {
          "name": "stdout",
          "output_type": "stream",
          "text": [
            "313/313 [==============================] - 4s 9ms/step - loss: 0.3392 - accuracy: 0.8808\n"
          ]
        },
        {
          "data": {
            "text/plain": [
              "[0.3391830623149872, 0.8808398246765137]"
            ]
          },
          "execution_count": 15,
          "metadata": {},
          "output_type": "execute_result"
        }
      ],
      "source": [
        "model.evaluate(x=X_test, y=y_test)"
      ]
    },
    {
      "cell_type": "code",
      "execution_count": null,
      "metadata": {
        "colab": {
          "base_uri": "https://localhost:8080/"
        },
        "id": "VxNVGAIa8V2I",
        "outputId": "2c7f4172-565a-4a94-e4e9-1f7d1b2676e8"
      },
      "outputs": [
        {
          "name": "stdout",
          "output_type": "stream",
          "text": [
            "313/313 [==============================] - 2s 6ms/step\n"
          ]
        }
      ],
      "source": [
        "y_pred = model.predict(X_test)"
      ]
    },
    {
      "cell_type": "code",
      "execution_count": null,
      "metadata": {
        "colab": {
          "base_uri": "https://localhost:8080/",
          "height": 420
        },
        "id": "pgzuQ3H-8oEB",
        "outputId": "7493e386-f1e7-448a-dba8-bbd0d1f459ee"
      },
      "outputs": [
        {
          "ename": "NameError",
          "evalue": "name 'plt' is not defined",
          "output_type": "error",
          "traceback": [
            "\u001b[1;31m---------------------------------------------------------------------------\u001b[0m",
            "\u001b[1;31mNameError\u001b[0m                                 Traceback (most recent call last)",
            "Cell \u001b[1;32mIn[1], line 15\u001b[0m\n\u001b[0;32m      2\u001b[0m \u001b[39m'''\u001b[39;00m\n\u001b[0;32m      3\u001b[0m \u001b[39m1 \tT-shirt/top \u001b[39;00m\n\u001b[0;32m      4\u001b[0m \u001b[39m2 \tTrouser \u001b[39;00m\n\u001b[1;32m   (...)\u001b[0m\n\u001b[0;32m     12\u001b[0m \u001b[39m10 \tAnkle\u001b[39;00m\n\u001b[0;32m     13\u001b[0m \u001b[39m'''\u001b[39;00m\n\u001b[0;32m     14\u001b[0m n \u001b[39m=\u001b[39m \u001b[39m11\u001b[39m\n\u001b[1;32m---> 15\u001b[0m fig \u001b[39m=\u001b[39m plt\u001b[39m.\u001b[39mfigure()\n\u001b[0;32m     16\u001b[0m fig\u001b[39m.\u001b[39madd_subplot(\u001b[39m1\u001b[39m,\u001b[39m2\u001b[39m,\u001b[39m1\u001b[39m)\n\u001b[0;32m     17\u001b[0m img \u001b[39m=\u001b[39m np\u001b[39m.\u001b[39margmax(y_pred, axis\u001b[39m=\u001b[39m\u001b[39m3\u001b[39m)\n",
            "\u001b[1;31mNameError\u001b[0m: name 'plt' is not defined"
          ]
        }
      ],
      "source": [
        "# We will plot the argmax for each pixel\n",
        "'''\n",
        "1 \tT-shirt/top \n",
        "2 \tTrouser \n",
        "3 \tPullover \n",
        "4 \tDress \n",
        "5 \tCoat \n",
        "6 \tSandal \n",
        "7 \tShirt \n",
        "8 \tSneaker \n",
        "9 \tBag \n",
        "10 \tAnkle\n",
        "'''\n",
        "n = 11\n",
        "fig = plt.figure()\n",
        "fig.add_subplot(1,2,1)\n",
        "img = np.argmax(y_pred, axis=3)\n",
        "plt.imshow(X_test[n], cmap='gray')\n",
        "fig.add_subplot(1,2,2)\n",
        "img = np.ma.masked_where(img == 0, img)\n",
        "plt.imshow(img[n], vmin=1, vmax=10, cmap='tab10')\n",
        "plt.colorbar()\n",
        "plt.show()\n",
        "\n",
        "\n",
        "\n"
      ]
    }
  ],
  "metadata": {
    "accelerator": "GPU",
    "colab": {
      "authorship_tag": "ABX9TyOLYAx0tm5XswOYRQTMTDg3",
      "include_colab_link": true,
      "provenance": []
    },
    "gpuClass": "standard",
    "kernelspec": {
      "display_name": "gpu",
      "language": "python",
      "name": "gpu"
    },
    "language_info": {
      "codemirror_mode": {
        "name": "ipython",
        "version": 3
      },
      "file_extension": ".py",
      "mimetype": "text/x-python",
      "name": "python",
      "nbconvert_exporter": "python",
      "pygments_lexer": "ipython3",
      "version": "3.9.16"
    }
  },
  "nbformat": 4,
  "nbformat_minor": 0
}
